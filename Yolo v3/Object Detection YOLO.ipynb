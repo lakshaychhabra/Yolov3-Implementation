{
 "cells": [
  {
   "cell_type": "code",
   "execution_count": 1,
   "metadata": {},
   "outputs": [],
   "source": [
    "import cv2 as cv\n",
    "import numpy as np\n",
    "\n",
    "# https://www.youtube.com/watch?v=R0hipZXJjlI&list=PLZBN9cDu0MSk4IFFnTOIDihvhnHWhAa8W"
   ]
  },
  {
   "cell_type": "code",
   "execution_count": 2,
   "metadata": {},
   "outputs": [],
   "source": [
    "#Write down conf, nms thresholds,inp width/height\n",
    "\n",
    "# https://www.learnopencv.com/deep-learning-based-object-detection-using-yolov3-with-opencv-python-c/\n",
    "\n",
    "confThreshold = 0.25  #Confidence threshold\n",
    "nmsThreshold = 0.40  #Non-maximum suppression threshold\n",
    "inpWidth = 416    #Width of network's input image\n",
    "inpHeight = 416    #Height of network's input image\n",
    "\n",
    "\n",
    "#Load names of classes and turn that into a list\n",
    "classesFile = \"coco.names\"\n",
    "classes = None"
   ]
  },
  {
   "cell_type": "code",
   "execution_count": 3,
   "metadata": {},
   "outputs": [],
   "source": [
    "with open(classesFile,'rt') as f:\n",
    "    classes = f.read().rstrip('\\n').split('\\n')\n",
    "\n",
    "#Model configuration\n",
    "modelConf = 'yolov3.cfg'\n",
    "modelWeights = 'yolov3.weights'\n"
   ]
  },
  {
   "cell_type": "code",
   "execution_count": 4,
   "metadata": {},
   "outputs": [],
   "source": [
    "def drawPred(classId, conf, left, top, right, bottom):\n",
    "    # Draw a bounding box.\n",
    "    cv.rectangle(frame, (left, top), (right, bottom), (255, 178, 50), 3)\n",
    "\n",
    "    label = '%.2f' % conf\n",
    "\n",
    "    # Get the label for the class name and its confidence\n",
    "    if classes:\n",
    "        assert (classId < len(classes))\n",
    "        label = '%s:%s' % (classes[classId], label)\n",
    "\n",
    "    cv.putText(frame, label, (left,top), cv.FONT_HERSHEY_SIMPLEX, 2, (255, 0, 0), 3)"
   ]
  },
  {
   "cell_type": "code",
   "execution_count": 5,
   "metadata": {},
   "outputs": [],
   "source": [
    "def postprocess(frame, outs):\n",
    "    frameHeight = frame.shape[0]\n",
    "    frameWidth = frame.shape[1]\n",
    "\n",
    "    classIDs = []\n",
    "    confidences = []\n",
    "    boxes = []\n",
    "    \n",
    "    for out in outs:\n",
    "        for detection in out:\n",
    "            \n",
    "            scores = detection [5:]\n",
    "            classID = np.argmax(scores)\n",
    "            confidence = scores[classID]\n",
    "\n",
    "            if confidence > confThreshold:\n",
    "                centerX = int(detection[0] * frameWidth)\n",
    "                centerY = int(detection[1] * frameHeight)\n",
    "\n",
    "                width = int(detection[2]* frameWidth)\n",
    "                height = int(detection[3]*frameHeight )\n",
    "\n",
    "                left = int(centerX - width/2)\n",
    "                top = int(centerY - height/2)\n",
    "\n",
    "                classIDs.append(classID)\n",
    "                confidences.append(float(confidence))\n",
    "                boxes.append([left, top, width, height])\n",
    "                \n",
    "                \n",
    "    # Perform non maximum suppression to eliminate redundant overlapping boxes with\n",
    "    # lower confidences.\n",
    "\n",
    "    indices = cv.dnn.NMSBoxes (boxes,confidences, confThreshold, nmsThreshold )\n",
    "\n",
    "    indices = cv.dnn.NMSBoxes(boxes, confidences, confThreshold, nmsThreshold)\n",
    "    for i in indices:\n",
    "        i = i[0]\n",
    "        box = boxes[i]\n",
    "        left = box[0]\n",
    "        top = box[1]\n",
    "        width = box[2]\n",
    "        height = box[3]\n",
    "        \n",
    "        drawPred(classIDs[i], confidences[i], left, top, left + width, top + height)\n"
   ]
  },
  {
   "cell_type": "code",
   "execution_count": 6,
   "metadata": {},
   "outputs": [],
   "source": [
    "def getOutputsNames(net):\n",
    "    # Get the names of all the layers in the network\n",
    "    layersNames = net.getLayerNames()\n",
    "   \n",
    "    # Get the names of the output layers, i.e. the layers with unconnected outputs\n",
    "    return [layersNames[i[0] - 1] for i in net.getUnconnectedOutLayers()]\n",
    "\n"
   ]
  },
  {
   "cell_type": "code",
   "execution_count": 7,
   "metadata": {},
   "outputs": [],
   "source": [
    "#Set up the net\n",
    "\n",
    "net = cv.dnn.readNetFromDarknet(modelConf, modelWeights)\n",
    "net.setPreferableBackend(cv.dnn.DNN_BACKEND_OPENCV)\n",
    "net.setPreferableTarget(cv.dnn.DNN_TARGET_CPU)\n",
    "\n",
    "\n",
    "#Process inputs\n",
    "winName = 'DL OD with OpenCV'\n",
    "cv.namedWindow(winName, cv.WINDOW_NORMAL)\n",
    "cv.resizeWindow(winName, 1000,1000)\n",
    "\n",
    "\n",
    "\n",
    "\n",
    "\n",
    "cap = cv.VideoCapture(0)\n",
    "\n",
    "while cv.waitKey(1) < 0:\n",
    "\n",
    "    #get frame from video\n",
    "    hasFrame, frame = cap.read()\n",
    "\n",
    "    #Create a 4D blob from a frame\n",
    "    \n",
    "    blob = cv.dnn.blobFromImage(frame, 1/255, (inpWidth, inpHeight), [0,0,0], 1, crop = False)\n",
    "\n",
    "    #Set the input the the net\n",
    "    net.setInput(blob)\n",
    "    outs = net.forward (getOutputsNames(net))\n",
    "\n",
    "\n",
    "    postprocess (frame, outs)\n",
    "\n",
    "    #show the image\n",
    "    cv.imshow(winName, frame)\n"
   ]
  },
  {
   "cell_type": "markdown",
   "metadata": {},
   "source": []
  }
 ],
 "metadata": {
  "kernelspec": {
   "display_name": "Python 3",
   "language": "python",
   "name": "python3"
  },
  "language_info": {
   "codemirror_mode": {
    "name": "ipython",
    "version": 3
   },
   "file_extension": ".py",
   "mimetype": "text/x-python",
   "name": "python",
   "nbconvert_exporter": "python",
   "pygments_lexer": "ipython3",
   "version": "3.7.3"
  }
 },
 "nbformat": 4,
 "nbformat_minor": 2
}
